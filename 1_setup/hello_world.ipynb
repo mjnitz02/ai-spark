{
 "cells": [
  {
   "metadata": {},
   "cell_type": "markdown",
   "source": [
    "# Welcome to AI Spark!\n",
    "***\n",
    "- To run cells hold down the SHIFT key and press ENTER.\n",
    "- You can also select a cell and click the play button in the toolbar above."
   ],
   "id": "2b37418b07b3f2f1"
  },
  {
   "metadata": {},
   "cell_type": "markdown",
   "source": [
    "Let's get started and setup our local environment. We're going to be using a tool called \"pip\" that will do everything for us here.\n",
    "\n",
    "**Python's pip is a package management system that allows you to install, update, and manage software packages written in Python.**"
   ],
   "id": "e81cbc5fc6e7ab81"
  },
  {
   "metadata": {
    "ExecuteTime": {
     "end_time": "2024-07-25T19:18:21.078206Z",
     "start_time": "2024-07-25T19:18:18.211427Z"
    }
   },
   "cell_type": "code",
   "source": [
    "# Hold down SHIFT and press ENTER to run this cell\n",
    "!pip install -r ../requirements.txt"
   ],
   "id": "dab129f1a1d15070",
   "outputs": [
    {
     "name": "stdout",
     "output_type": "stream",
     "text": [
      "Requirement already satisfied: jupyter in /Users/mattnitzken/.virtualenvs/ai-spark/lib/python3.11/site-packages (from -r ../requirements.txt (line 1)) (1.0.0)\r\n",
      "Requirement already satisfied: notebook in /Users/mattnitzken/.virtualenvs/ai-spark/lib/python3.11/site-packages (from jupyter->-r ../requirements.txt (line 1)) (7.2.1)\r\n",
      "Requirement already satisfied: qtconsole in /Users/mattnitzken/.virtualenvs/ai-spark/lib/python3.11/site-packages (from jupyter->-r ../requirements.txt (line 1)) (5.5.2)\r\n",
      "Requirement already satisfied: jupyter-console in /Users/mattnitzken/.virtualenvs/ai-spark/lib/python3.11/site-packages (from jupyter->-r ../requirements.txt (line 1)) (6.6.3)\r\n",
      "Requirement already satisfied: nbconvert in /Users/mattnitzken/.virtualenvs/ai-spark/lib/python3.11/site-packages (from jupyter->-r ../requirements.txt (line 1)) (7.16.4)\r\n",
      "Requirement already satisfied: ipykernel in /Users/mattnitzken/.virtualenvs/ai-spark/lib/python3.11/site-packages (from jupyter->-r ../requirements.txt (line 1)) (6.29.5)\r\n",
      "Requirement already satisfied: ipywidgets in /Users/mattnitzken/.virtualenvs/ai-spark/lib/python3.11/site-packages (from jupyter->-r ../requirements.txt (line 1)) (8.1.3)\r\n",
      "Requirement already satisfied: appnope in /Users/mattnitzken/.virtualenvs/ai-spark/lib/python3.11/site-packages (from ipykernel->jupyter->-r ../requirements.txt (line 1)) (0.1.4)\r\n",
      "Requirement already satisfied: comm>=0.1.1 in /Users/mattnitzken/.virtualenvs/ai-spark/lib/python3.11/site-packages (from ipykernel->jupyter->-r ../requirements.txt (line 1)) (0.2.2)\r\n",
      "Requirement already satisfied: debugpy>=1.6.5 in /Users/mattnitzken/.virtualenvs/ai-spark/lib/python3.11/site-packages (from ipykernel->jupyter->-r ../requirements.txt (line 1)) (1.8.2)\r\n",
      "Requirement already satisfied: ipython>=7.23.1 in /Users/mattnitzken/.virtualenvs/ai-spark/lib/python3.11/site-packages (from ipykernel->jupyter->-r ../requirements.txt (line 1)) (8.26.0)\r\n",
      "Requirement already satisfied: jupyter-client>=6.1.12 in /Users/mattnitzken/.virtualenvs/ai-spark/lib/python3.11/site-packages (from ipykernel->jupyter->-r ../requirements.txt (line 1)) (8.6.2)\r\n",
      "Requirement already satisfied: jupyter-core!=5.0.*,>=4.12 in /Users/mattnitzken/.virtualenvs/ai-spark/lib/python3.11/site-packages (from ipykernel->jupyter->-r ../requirements.txt (line 1)) (5.7.2)\r\n",
      "Requirement already satisfied: matplotlib-inline>=0.1 in /Users/mattnitzken/.virtualenvs/ai-spark/lib/python3.11/site-packages (from ipykernel->jupyter->-r ../requirements.txt (line 1)) (0.1.7)\r\n",
      "Requirement already satisfied: nest-asyncio in /Users/mattnitzken/.virtualenvs/ai-spark/lib/python3.11/site-packages (from ipykernel->jupyter->-r ../requirements.txt (line 1)) (1.6.0)\r\n",
      "Requirement already satisfied: packaging in /Users/mattnitzken/.virtualenvs/ai-spark/lib/python3.11/site-packages (from ipykernel->jupyter->-r ../requirements.txt (line 1)) (24.1)\r\n",
      "Requirement already satisfied: psutil in /Users/mattnitzken/.virtualenvs/ai-spark/lib/python3.11/site-packages (from ipykernel->jupyter->-r ../requirements.txt (line 1)) (6.0.0)\r\n",
      "Requirement already satisfied: pyzmq>=24 in /Users/mattnitzken/.virtualenvs/ai-spark/lib/python3.11/site-packages (from ipykernel->jupyter->-r ../requirements.txt (line 1)) (26.0.3)\r\n",
      "Requirement already satisfied: tornado>=6.1 in /Users/mattnitzken/.virtualenvs/ai-spark/lib/python3.11/site-packages (from ipykernel->jupyter->-r ../requirements.txt (line 1)) (6.4.1)\r\n",
      "Requirement already satisfied: traitlets>=5.4.0 in /Users/mattnitzken/.virtualenvs/ai-spark/lib/python3.11/site-packages (from ipykernel->jupyter->-r ../requirements.txt (line 1)) (5.14.3)\r\n",
      "Requirement already satisfied: widgetsnbextension~=4.0.11 in /Users/mattnitzken/.virtualenvs/ai-spark/lib/python3.11/site-packages (from ipywidgets->jupyter->-r ../requirements.txt (line 1)) (4.0.11)\r\n",
      "Requirement already satisfied: jupyterlab-widgets~=3.0.11 in /Users/mattnitzken/.virtualenvs/ai-spark/lib/python3.11/site-packages (from ipywidgets->jupyter->-r ../requirements.txt (line 1)) (3.0.11)\r\n",
      "Requirement already satisfied: prompt-toolkit>=3.0.30 in /Users/mattnitzken/.virtualenvs/ai-spark/lib/python3.11/site-packages (from jupyter-console->jupyter->-r ../requirements.txt (line 1)) (3.0.47)\r\n",
      "Requirement already satisfied: pygments in /Users/mattnitzken/.virtualenvs/ai-spark/lib/python3.11/site-packages (from jupyter-console->jupyter->-r ../requirements.txt (line 1)) (2.18.0)\r\n",
      "Requirement already satisfied: beautifulsoup4 in /Users/mattnitzken/.virtualenvs/ai-spark/lib/python3.11/site-packages (from nbconvert->jupyter->-r ../requirements.txt (line 1)) (4.12.3)\r\n",
      "Requirement already satisfied: bleach!=5.0.0 in /Users/mattnitzken/.virtualenvs/ai-spark/lib/python3.11/site-packages (from nbconvert->jupyter->-r ../requirements.txt (line 1)) (6.1.0)\r\n",
      "Requirement already satisfied: defusedxml in /Users/mattnitzken/.virtualenvs/ai-spark/lib/python3.11/site-packages (from nbconvert->jupyter->-r ../requirements.txt (line 1)) (0.7.1)\r\n",
      "Requirement already satisfied: jinja2>=3.0 in /Users/mattnitzken/.virtualenvs/ai-spark/lib/python3.11/site-packages (from nbconvert->jupyter->-r ../requirements.txt (line 1)) (3.1.4)\r\n",
      "Requirement already satisfied: jupyterlab-pygments in /Users/mattnitzken/.virtualenvs/ai-spark/lib/python3.11/site-packages (from nbconvert->jupyter->-r ../requirements.txt (line 1)) (0.3.0)\r\n",
      "Requirement already satisfied: markupsafe>=2.0 in /Users/mattnitzken/.virtualenvs/ai-spark/lib/python3.11/site-packages (from nbconvert->jupyter->-r ../requirements.txt (line 1)) (2.1.5)\r\n",
      "Requirement already satisfied: mistune<4,>=2.0.3 in /Users/mattnitzken/.virtualenvs/ai-spark/lib/python3.11/site-packages (from nbconvert->jupyter->-r ../requirements.txt (line 1)) (3.0.2)\r\n",
      "Requirement already satisfied: nbclient>=0.5.0 in /Users/mattnitzken/.virtualenvs/ai-spark/lib/python3.11/site-packages (from nbconvert->jupyter->-r ../requirements.txt (line 1)) (0.10.0)\r\n",
      "Requirement already satisfied: nbformat>=5.7 in /Users/mattnitzken/.virtualenvs/ai-spark/lib/python3.11/site-packages (from nbconvert->jupyter->-r ../requirements.txt (line 1)) (5.10.4)\r\n",
      "Requirement already satisfied: pandocfilters>=1.4.1 in /Users/mattnitzken/.virtualenvs/ai-spark/lib/python3.11/site-packages (from nbconvert->jupyter->-r ../requirements.txt (line 1)) (1.5.1)\r\n",
      "Requirement already satisfied: tinycss2 in /Users/mattnitzken/.virtualenvs/ai-spark/lib/python3.11/site-packages (from nbconvert->jupyter->-r ../requirements.txt (line 1)) (1.3.0)\r\n",
      "Requirement already satisfied: jupyter-server<3,>=2.4.0 in /Users/mattnitzken/.virtualenvs/ai-spark/lib/python3.11/site-packages (from notebook->jupyter->-r ../requirements.txt (line 1)) (2.14.2)\r\n",
      "Requirement already satisfied: jupyterlab-server<3,>=2.27.1 in /Users/mattnitzken/.virtualenvs/ai-spark/lib/python3.11/site-packages (from notebook->jupyter->-r ../requirements.txt (line 1)) (2.27.3)\r\n",
      "Requirement already satisfied: jupyterlab<4.3,>=4.2.0 in /Users/mattnitzken/.virtualenvs/ai-spark/lib/python3.11/site-packages (from notebook->jupyter->-r ../requirements.txt (line 1)) (4.2.4)\r\n",
      "Requirement already satisfied: notebook-shim<0.3,>=0.2 in /Users/mattnitzken/.virtualenvs/ai-spark/lib/python3.11/site-packages (from notebook->jupyter->-r ../requirements.txt (line 1)) (0.2.4)\r\n",
      "Requirement already satisfied: qtpy>=2.4.0 in /Users/mattnitzken/.virtualenvs/ai-spark/lib/python3.11/site-packages (from qtconsole->jupyter->-r ../requirements.txt (line 1)) (2.4.1)\r\n",
      "Requirement already satisfied: six>=1.9.0 in /Users/mattnitzken/.virtualenvs/ai-spark/lib/python3.11/site-packages (from bleach!=5.0.0->nbconvert->jupyter->-r ../requirements.txt (line 1)) (1.16.0)\r\n",
      "Requirement already satisfied: webencodings in /Users/mattnitzken/.virtualenvs/ai-spark/lib/python3.11/site-packages (from bleach!=5.0.0->nbconvert->jupyter->-r ../requirements.txt (line 1)) (0.5.1)\r\n",
      "Requirement already satisfied: decorator in /Users/mattnitzken/.virtualenvs/ai-spark/lib/python3.11/site-packages (from ipython>=7.23.1->ipykernel->jupyter->-r ../requirements.txt (line 1)) (5.1.1)\r\n",
      "Requirement already satisfied: jedi>=0.16 in /Users/mattnitzken/.virtualenvs/ai-spark/lib/python3.11/site-packages (from ipython>=7.23.1->ipykernel->jupyter->-r ../requirements.txt (line 1)) (0.19.1)\r\n",
      "Requirement already satisfied: stack-data in /Users/mattnitzken/.virtualenvs/ai-spark/lib/python3.11/site-packages (from ipython>=7.23.1->ipykernel->jupyter->-r ../requirements.txt (line 1)) (0.6.3)\r\n",
      "Requirement already satisfied: typing-extensions>=4.6 in /Users/mattnitzken/.virtualenvs/ai-spark/lib/python3.11/site-packages (from ipython>=7.23.1->ipykernel->jupyter->-r ../requirements.txt (line 1)) (4.12.2)\r\n",
      "Requirement already satisfied: pexpect>4.3 in /Users/mattnitzken/.virtualenvs/ai-spark/lib/python3.11/site-packages (from ipython>=7.23.1->ipykernel->jupyter->-r ../requirements.txt (line 1)) (4.9.0)\r\n",
      "Requirement already satisfied: python-dateutil>=2.8.2 in /Users/mattnitzken/.virtualenvs/ai-spark/lib/python3.11/site-packages (from jupyter-client>=6.1.12->ipykernel->jupyter->-r ../requirements.txt (line 1)) (2.9.0.post0)\r\n",
      "Requirement already satisfied: platformdirs>=2.5 in /Users/mattnitzken/.virtualenvs/ai-spark/lib/python3.11/site-packages (from jupyter-core!=5.0.*,>=4.12->ipykernel->jupyter->-r ../requirements.txt (line 1)) (4.2.2)\r\n",
      "Requirement already satisfied: anyio>=3.1.0 in /Users/mattnitzken/.virtualenvs/ai-spark/lib/python3.11/site-packages (from jupyter-server<3,>=2.4.0->notebook->jupyter->-r ../requirements.txt (line 1)) (4.4.0)\r\n",
      "Requirement already satisfied: argon2-cffi>=21.1 in /Users/mattnitzken/.virtualenvs/ai-spark/lib/python3.11/site-packages (from jupyter-server<3,>=2.4.0->notebook->jupyter->-r ../requirements.txt (line 1)) (23.1.0)\r\n",
      "Requirement already satisfied: jupyter-events>=0.9.0 in /Users/mattnitzken/.virtualenvs/ai-spark/lib/python3.11/site-packages (from jupyter-server<3,>=2.4.0->notebook->jupyter->-r ../requirements.txt (line 1)) (0.10.0)\r\n",
      "Requirement already satisfied: jupyter-server-terminals>=0.4.4 in /Users/mattnitzken/.virtualenvs/ai-spark/lib/python3.11/site-packages (from jupyter-server<3,>=2.4.0->notebook->jupyter->-r ../requirements.txt (line 1)) (0.5.3)\r\n",
      "Requirement already satisfied: overrides>=5.0 in /Users/mattnitzken/.virtualenvs/ai-spark/lib/python3.11/site-packages (from jupyter-server<3,>=2.4.0->notebook->jupyter->-r ../requirements.txt (line 1)) (7.7.0)\r\n",
      "Requirement already satisfied: prometheus-client>=0.9 in /Users/mattnitzken/.virtualenvs/ai-spark/lib/python3.11/site-packages (from jupyter-server<3,>=2.4.0->notebook->jupyter->-r ../requirements.txt (line 1)) (0.20.0)\r\n",
      "Requirement already satisfied: send2trash>=1.8.2 in /Users/mattnitzken/.virtualenvs/ai-spark/lib/python3.11/site-packages (from jupyter-server<3,>=2.4.0->notebook->jupyter->-r ../requirements.txt (line 1)) (1.8.3)\r\n",
      "Requirement already satisfied: terminado>=0.8.3 in /Users/mattnitzken/.virtualenvs/ai-spark/lib/python3.11/site-packages (from jupyter-server<3,>=2.4.0->notebook->jupyter->-r ../requirements.txt (line 1)) (0.18.1)\r\n",
      "Requirement already satisfied: websocket-client>=1.7 in /Users/mattnitzken/.virtualenvs/ai-spark/lib/python3.11/site-packages (from jupyter-server<3,>=2.4.0->notebook->jupyter->-r ../requirements.txt (line 1)) (1.8.0)\r\n",
      "Requirement already satisfied: async-lru>=1.0.0 in /Users/mattnitzken/.virtualenvs/ai-spark/lib/python3.11/site-packages (from jupyterlab<4.3,>=4.2.0->notebook->jupyter->-r ../requirements.txt (line 1)) (2.0.4)\r\n",
      "Requirement already satisfied: httpx>=0.25.0 in /Users/mattnitzken/.virtualenvs/ai-spark/lib/python3.11/site-packages (from jupyterlab<4.3,>=4.2.0->notebook->jupyter->-r ../requirements.txt (line 1)) (0.27.0)\r\n",
      "Requirement already satisfied: jupyter-lsp>=2.0.0 in /Users/mattnitzken/.virtualenvs/ai-spark/lib/python3.11/site-packages (from jupyterlab<4.3,>=4.2.0->notebook->jupyter->-r ../requirements.txt (line 1)) (2.2.5)\r\n",
      "Requirement already satisfied: setuptools>=40.1.0 in /Users/mattnitzken/.virtualenvs/ai-spark/lib/python3.11/site-packages (from jupyterlab<4.3,>=4.2.0->notebook->jupyter->-r ../requirements.txt (line 1)) (65.6.3)\r\n",
      "Requirement already satisfied: babel>=2.10 in /Users/mattnitzken/.virtualenvs/ai-spark/lib/python3.11/site-packages (from jupyterlab-server<3,>=2.27.1->notebook->jupyter->-r ../requirements.txt (line 1)) (2.15.0)\r\n",
      "Requirement already satisfied: json5>=0.9.0 in /Users/mattnitzken/.virtualenvs/ai-spark/lib/python3.11/site-packages (from jupyterlab-server<3,>=2.27.1->notebook->jupyter->-r ../requirements.txt (line 1)) (0.9.25)\r\n",
      "Requirement already satisfied: jsonschema>=4.18.0 in /Users/mattnitzken/.virtualenvs/ai-spark/lib/python3.11/site-packages (from jupyterlab-server<3,>=2.27.1->notebook->jupyter->-r ../requirements.txt (line 1)) (4.23.0)\r\n",
      "Requirement already satisfied: requests>=2.31 in /Users/mattnitzken/.virtualenvs/ai-spark/lib/python3.11/site-packages (from jupyterlab-server<3,>=2.27.1->notebook->jupyter->-r ../requirements.txt (line 1)) (2.32.3)\r\n",
      "Requirement already satisfied: fastjsonschema>=2.15 in /Users/mattnitzken/.virtualenvs/ai-spark/lib/python3.11/site-packages (from nbformat>=5.7->nbconvert->jupyter->-r ../requirements.txt (line 1)) (2.20.0)\r\n",
      "Requirement already satisfied: wcwidth in /Users/mattnitzken/.virtualenvs/ai-spark/lib/python3.11/site-packages (from prompt-toolkit>=3.0.30->jupyter-console->jupyter->-r ../requirements.txt (line 1)) (0.2.13)\r\n",
      "Requirement already satisfied: soupsieve>1.2 in /Users/mattnitzken/.virtualenvs/ai-spark/lib/python3.11/site-packages (from beautifulsoup4->nbconvert->jupyter->-r ../requirements.txt (line 1)) (2.5)\r\n",
      "Requirement already satisfied: idna>=2.8 in /Users/mattnitzken/.virtualenvs/ai-spark/lib/python3.11/site-packages (from anyio>=3.1.0->jupyter-server<3,>=2.4.0->notebook->jupyter->-r ../requirements.txt (line 1)) (3.7)\r\n",
      "Requirement already satisfied: sniffio>=1.1 in /Users/mattnitzken/.virtualenvs/ai-spark/lib/python3.11/site-packages (from anyio>=3.1.0->jupyter-server<3,>=2.4.0->notebook->jupyter->-r ../requirements.txt (line 1)) (1.3.1)\r\n",
      "Requirement already satisfied: argon2-cffi-bindings in /Users/mattnitzken/.virtualenvs/ai-spark/lib/python3.11/site-packages (from argon2-cffi>=21.1->jupyter-server<3,>=2.4.0->notebook->jupyter->-r ../requirements.txt (line 1)) (21.2.0)\r\n",
      "Requirement already satisfied: certifi in /Users/mattnitzken/.virtualenvs/ai-spark/lib/python3.11/site-packages (from httpx>=0.25.0->jupyterlab<4.3,>=4.2.0->notebook->jupyter->-r ../requirements.txt (line 1)) (2024.7.4)\r\n",
      "Requirement already satisfied: httpcore==1.* in /Users/mattnitzken/.virtualenvs/ai-spark/lib/python3.11/site-packages (from httpx>=0.25.0->jupyterlab<4.3,>=4.2.0->notebook->jupyter->-r ../requirements.txt (line 1)) (1.0.5)\r\n",
      "Requirement already satisfied: h11<0.15,>=0.13 in /Users/mattnitzken/.virtualenvs/ai-spark/lib/python3.11/site-packages (from httpcore==1.*->httpx>=0.25.0->jupyterlab<4.3,>=4.2.0->notebook->jupyter->-r ../requirements.txt (line 1)) (0.14.0)\r\n",
      "Requirement already satisfied: parso<0.9.0,>=0.8.3 in /Users/mattnitzken/.virtualenvs/ai-spark/lib/python3.11/site-packages (from jedi>=0.16->ipython>=7.23.1->ipykernel->jupyter->-r ../requirements.txt (line 1)) (0.8.4)\r\n",
      "Requirement already satisfied: attrs>=22.2.0 in /Users/mattnitzken/.virtualenvs/ai-spark/lib/python3.11/site-packages (from jsonschema>=4.18.0->jupyterlab-server<3,>=2.27.1->notebook->jupyter->-r ../requirements.txt (line 1)) (23.2.0)\r\n",
      "Requirement already satisfied: jsonschema-specifications>=2023.03.6 in /Users/mattnitzken/.virtualenvs/ai-spark/lib/python3.11/site-packages (from jsonschema>=4.18.0->jupyterlab-server<3,>=2.27.1->notebook->jupyter->-r ../requirements.txt (line 1)) (2023.12.1)\r\n",
      "Requirement already satisfied: referencing>=0.28.4 in /Users/mattnitzken/.virtualenvs/ai-spark/lib/python3.11/site-packages (from jsonschema>=4.18.0->jupyterlab-server<3,>=2.27.1->notebook->jupyter->-r ../requirements.txt (line 1)) (0.35.1)\r\n",
      "Requirement already satisfied: rpds-py>=0.7.1 in /Users/mattnitzken/.virtualenvs/ai-spark/lib/python3.11/site-packages (from jsonschema>=4.18.0->jupyterlab-server<3,>=2.27.1->notebook->jupyter->-r ../requirements.txt (line 1)) (0.19.1)\r\n",
      "Requirement already satisfied: python-json-logger>=2.0.4 in /Users/mattnitzken/.virtualenvs/ai-spark/lib/python3.11/site-packages (from jupyter-events>=0.9.0->jupyter-server<3,>=2.4.0->notebook->jupyter->-r ../requirements.txt (line 1)) (2.0.7)\r\n",
      "Requirement already satisfied: pyyaml>=5.3 in /Users/mattnitzken/.virtualenvs/ai-spark/lib/python3.11/site-packages (from jupyter-events>=0.9.0->jupyter-server<3,>=2.4.0->notebook->jupyter->-r ../requirements.txt (line 1)) (6.0.1)\r\n",
      "Requirement already satisfied: rfc3339-validator in /Users/mattnitzken/.virtualenvs/ai-spark/lib/python3.11/site-packages (from jupyter-events>=0.9.0->jupyter-server<3,>=2.4.0->notebook->jupyter->-r ../requirements.txt (line 1)) (0.1.4)\r\n",
      "Requirement already satisfied: rfc3986-validator>=0.1.1 in /Users/mattnitzken/.virtualenvs/ai-spark/lib/python3.11/site-packages (from jupyter-events>=0.9.0->jupyter-server<3,>=2.4.0->notebook->jupyter->-r ../requirements.txt (line 1)) (0.1.1)\r\n",
      "Requirement already satisfied: ptyprocess>=0.5 in /Users/mattnitzken/.virtualenvs/ai-spark/lib/python3.11/site-packages (from pexpect>4.3->ipython>=7.23.1->ipykernel->jupyter->-r ../requirements.txt (line 1)) (0.7.0)\r\n",
      "Requirement already satisfied: charset-normalizer<4,>=2 in /Users/mattnitzken/.virtualenvs/ai-spark/lib/python3.11/site-packages (from requests>=2.31->jupyterlab-server<3,>=2.27.1->notebook->jupyter->-r ../requirements.txt (line 1)) (3.3.2)\r\n",
      "Requirement already satisfied: urllib3<3,>=1.21.1 in /Users/mattnitzken/.virtualenvs/ai-spark/lib/python3.11/site-packages (from requests>=2.31->jupyterlab-server<3,>=2.27.1->notebook->jupyter->-r ../requirements.txt (line 1)) (2.2.2)\r\n",
      "Requirement already satisfied: executing>=1.2.0 in /Users/mattnitzken/.virtualenvs/ai-spark/lib/python3.11/site-packages (from stack-data->ipython>=7.23.1->ipykernel->jupyter->-r ../requirements.txt (line 1)) (2.0.1)\r\n",
      "Requirement already satisfied: asttokens>=2.1.0 in /Users/mattnitzken/.virtualenvs/ai-spark/lib/python3.11/site-packages (from stack-data->ipython>=7.23.1->ipykernel->jupyter->-r ../requirements.txt (line 1)) (2.4.1)\r\n",
      "Requirement already satisfied: pure-eval in /Users/mattnitzken/.virtualenvs/ai-spark/lib/python3.11/site-packages (from stack-data->ipython>=7.23.1->ipykernel->jupyter->-r ../requirements.txt (line 1)) (0.2.3)\r\n",
      "Requirement already satisfied: fqdn in /Users/mattnitzken/.virtualenvs/ai-spark/lib/python3.11/site-packages (from jsonschema>=4.18.0->jupyterlab-server<3,>=2.27.1->notebook->jupyter->-r ../requirements.txt (line 1)) (1.5.1)\r\n",
      "Requirement already satisfied: isoduration in /Users/mattnitzken/.virtualenvs/ai-spark/lib/python3.11/site-packages (from jsonschema>=4.18.0->jupyterlab-server<3,>=2.27.1->notebook->jupyter->-r ../requirements.txt (line 1)) (20.11.0)\r\n",
      "Requirement already satisfied: jsonpointer>1.13 in /Users/mattnitzken/.virtualenvs/ai-spark/lib/python3.11/site-packages (from jsonschema>=4.18.0->jupyterlab-server<3,>=2.27.1->notebook->jupyter->-r ../requirements.txt (line 1)) (3.0.0)\r\n",
      "Requirement already satisfied: uri-template in /Users/mattnitzken/.virtualenvs/ai-spark/lib/python3.11/site-packages (from jsonschema>=4.18.0->jupyterlab-server<3,>=2.27.1->notebook->jupyter->-r ../requirements.txt (line 1)) (1.3.0)\r\n",
      "Requirement already satisfied: webcolors>=24.6.0 in /Users/mattnitzken/.virtualenvs/ai-spark/lib/python3.11/site-packages (from jsonschema>=4.18.0->jupyterlab-server<3,>=2.27.1->notebook->jupyter->-r ../requirements.txt (line 1)) (24.6.0)\r\n",
      "Requirement already satisfied: cffi>=1.0.1 in /Users/mattnitzken/.virtualenvs/ai-spark/lib/python3.11/site-packages (from argon2-cffi-bindings->argon2-cffi>=21.1->jupyter-server<3,>=2.4.0->notebook->jupyter->-r ../requirements.txt (line 1)) (1.16.0)\r\n",
      "Requirement already satisfied: pycparser in /Users/mattnitzken/.virtualenvs/ai-spark/lib/python3.11/site-packages (from cffi>=1.0.1->argon2-cffi-bindings->argon2-cffi>=21.1->jupyter-server<3,>=2.4.0->notebook->jupyter->-r ../requirements.txt (line 1)) (2.22)\r\n",
      "Requirement already satisfied: arrow>=0.15.0 in /Users/mattnitzken/.virtualenvs/ai-spark/lib/python3.11/site-packages (from isoduration->jsonschema>=4.18.0->jupyterlab-server<3,>=2.27.1->notebook->jupyter->-r ../requirements.txt (line 1)) (1.3.0)\r\n",
      "Requirement already satisfied: types-python-dateutil>=2.8.10 in /Users/mattnitzken/.virtualenvs/ai-spark/lib/python3.11/site-packages (from arrow>=0.15.0->isoduration->jsonschema>=4.18.0->jupyterlab-server<3,>=2.27.1->notebook->jupyter->-r ../requirements.txt (line 1)) (2.9.0.20240316)\r\n",
      "\r\n",
      "\u001B[1m[\u001B[0m\u001B[34;49mnotice\u001B[0m\u001B[1;39;49m]\u001B[0m\u001B[39;49m A new release of pip available: \u001B[0m\u001B[31;49m22.3.1\u001B[0m\u001B[39;49m -> \u001B[0m\u001B[32;49m24.1.2\u001B[0m\r\n",
      "\u001B[1m[\u001B[0m\u001B[34;49mnotice\u001B[0m\u001B[1;39;49m]\u001B[0m\u001B[39;49m To update, run: \u001B[0m\u001B[32;49mpip install --upgrade pip\u001B[0m\r\n"
     ]
    }
   ],
   "execution_count": 2
  },
  {
   "metadata": {},
   "cell_type": "markdown",
   "source": [
    "## THATS A LOT OF PACKAGES!\n",
    "\n",
    "Now your environment is ready to go! You can start running cells and following along with the AI Spark course!"
   ],
   "id": "abb697ce96834137"
  },
  {
   "metadata": {},
   "cell_type": "markdown",
   "source": "Let's run one more cell below just to make sure everything is working correctly.",
   "id": "c796e7eb8f7904ee"
  },
  {
   "metadata": {
    "ExecuteTime": {
     "end_time": "2024-07-25T19:20:42.353589Z",
     "start_time": "2024-07-25T19:20:42.350559Z"
    }
   },
   "cell_type": "code",
   "source": "print(\"Hello World!\")",
   "id": "a8767597dd2d8bcb",
   "outputs": [
    {
     "name": "stdout",
     "output_type": "stream",
     "text": [
      "Hello World!\n"
     ]
    }
   ],
   "execution_count": 6
  },
  {
   "metadata": {},
   "cell_type": "code",
   "outputs": [],
   "execution_count": null,
   "source": "",
   "id": "450142d2beef84e0"
  },
  {
   "metadata": {},
   "cell_type": "markdown",
   "source": "# That's it, we're ready to go!",
   "id": "e91ecef7998f8fea"
  }
 ],
 "metadata": {
  "kernelspec": {
   "display_name": "Python 3",
   "language": "python",
   "name": "python3"
  },
  "language_info": {
   "codemirror_mode": {
    "name": "ipython",
    "version": 2
   },
   "file_extension": ".py",
   "mimetype": "text/x-python",
   "name": "python",
   "nbconvert_exporter": "python",
   "pygments_lexer": "ipython2",
   "version": "2.7.6"
  }
 },
 "nbformat": 4,
 "nbformat_minor": 5
}
